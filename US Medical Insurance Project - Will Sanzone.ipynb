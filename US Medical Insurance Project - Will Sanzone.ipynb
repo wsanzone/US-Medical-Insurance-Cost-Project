{
 "cells": [
  {
   "cell_type": "markdown",
   "id": "cbc27356",
   "metadata": {},
   "source": [
    "# US Medical Insurance Costs - Portfolio Project\n",
    "#The goal of this project is to show my familiarity with Python and to examine the given dataset. "
   ]
  },
  {
   "cell_type": "markdown",
   "id": "bc14827c",
   "metadata": {},
   "source": [
    "Starting off, we need to import the csv module to read the data"
   ]
  },
  {
   "cell_type": "code",
   "execution_count": 3,
   "id": "fe31a838",
   "metadata": {},
   "outputs": [],
   "source": [
    "import csv"
   ]
  },
  {
   "cell_type": "markdown",
   "id": "73889403",
   "metadata": {},
   "source": [
    "Now we will create empty lists for each column in the original dataset"
   ]
  },
  {
   "cell_type": "code",
   "execution_count": 6,
   "id": "97bc104d",
   "metadata": {},
   "outputs": [],
   "source": [
    "age_list = []\n",
    "user_list = []\n",
    "sex_list = []\n",
    "bmi_list = []\n",
    "children_list = []\n",
    "smoker_list = []\n",
    "region_list = []\n",
    "charges_list = []"
   ]
  },
  {
   "cell_type": "markdown",
   "id": "2bb30452",
   "metadata": {},
   "source": [
    "Now we will append these lists with their respective values"
   ]
  },
  {
   "cell_type": "code",
   "execution_count": 47,
   "id": "a526bc03",
   "metadata": {},
   "outputs": [],
   "source": [
    "  with open('insurance.csv') as csvFile:\n",
    "        insurance_dict = csv.DictReader(csvFile)\n",
    "        for row in insurance_dict:\n",
    "            age_list.append(int(row['age']))\n",
    "            sex_list.append(row['sex'])\n",
    "            bmi_list.append(float(row['bmi']))\n",
    "            children_list.append(int(row['children']))\n",
    "            smoker_list.append(row['smoker'])\n",
    "            region_list.append(row['region'])\n",
    "            charges_list.append(float(row['charges']))"
   ]
  },
  {
   "cell_type": "markdown",
   "id": "2cd6a032",
   "metadata": {},
   "source": [
    "Now we will define a class for this data and create some methods for it"
   ]
  },
  {
   "cell_type": "code",
   "execution_count": 210,
   "id": "af8b6908",
   "metadata": {},
   "outputs": [],
   "source": [
    "class Insurance:\n",
    "    \n",
    "    def __init__(self, age_list, sex_list, bmi_list, children_list, smoker_list, region_list, charges_list):\n",
    "        self.age_list = age_list\n",
    "        self.sex_list = sex_list\n",
    "        self.bmi_list = bmi_list\n",
    "        self.children_list = children_list\n",
    "        self.smoker_list = smoker_list\n",
    "        self.region_list = region_list\n",
    "        self.charges_list = charges_list\n",
    "        \n",
    "#Finding average age of the dataset\n",
    "    def averageAge(self):\n",
    "        sum_ages = 0\n",
    "        for value in age_list:\n",
    "            sum_ages += int(value)\n",
    "        average_age = sum_ages / len(self.age_list)\n",
    "        return \"Average Age: \" + str(average_age)\n",
    "    \n",
    "#Finding average BMI of the dataset\n",
    "    def averageBMI(self):\n",
    "        sum_bmi = 0\n",
    "        for value in bmi_list:\n",
    "            sum_bmi += value\n",
    "        average_bmi = sum_bmi / len(self.bmi_list)\n",
    "        return \"Average BMI: \" + str(average_bmi)\n",
    "    \n",
    "#Finding avergae number of children for the dtaset\n",
    "    def averageChildren(self):\n",
    "        sum_child = 0\n",
    "        for value in children_list:\n",
    "            sum_child += value\n",
    "        return sum_child / len(self.children_list)\n",
    "    \n",
    "#let's find the total of each region\n",
    "    def regions(self):\n",
    "        northeast = 0\n",
    "        southeast = 0\n",
    "        northwest = 0\n",
    "        southwest = 0\n",
    "        for item in self.region_list:\n",
    "            if item == 'northeast':\n",
    "                northeast += 1\n",
    "            elif item == 'southeast':\n",
    "                southeast += 1\n",
    "            elif item == 'northwest':\n",
    "                northwest += 1\n",
    "            elif item == 'southwest':\n",
    "                southwest += 1\n",
    "            else:\n",
    "                return 'data not in a region'\n",
    "        sums = northeast+southeast+northwest+southwest\n",
    "        return 'northeast: ' + str(northeast), 'southeast: ' + str(southeast), 'northwest: ' + str(northwest), 'southwest: ' + str(southwest)\n",
    "        \n",
    "        \n",
    "#Now we will find the average cost based on gender\n",
    "    def gender_costs(self):\n",
    "        male_sum = 0\n",
    "        female_sum = 0\n",
    "        male_list = []\n",
    "        female_list = []\n",
    "        for i,sex in enumerate(self.sex_list):\n",
    "            if sex == 'male':\n",
    "                male_list.append(i)\n",
    "            else:\n",
    "                female_list.append(i)\n",
    "                \n",
    "        for male in male_list:\n",
    "            male_sum += float(self.charges_list[male])\n",
    "            male_avg_cost = male_sum / len(male_list)\n",
    "        \n",
    "        for female in female_list:\n",
    "            female_sum += float(self.charges_list[female])\n",
    "            female_avg_cost = female_sum / len(female_list)\n",
    "        return 'male cost: ' + str(male_avg_cost), 'female cost: ' + str(female_avg_cost)\n",
    "        \n",
    "        \n",
    "#determining average cost based on number of children\n",
    "    def max_children(self):\n",
    "        return max(self.children_list)\n",
    "    #the most children a person in the dataset has is five (5) children\n",
    "    \n",
    "    def children_costs(self):\n",
    "        zero_sum = 0\n",
    "        one_sum = 0\n",
    "        two_sum = 0\n",
    "        three_sum = 0\n",
    "        four_sum = 0\n",
    "        five_sum = 0\n",
    "        zero = []\n",
    "        one = []\n",
    "        two = []\n",
    "        three = []\n",
    "        four = []\n",
    "        five = []\n",
    "        for i,number_kids in enumerate(self.children_list):\n",
    "            if number_kids == 0:\n",
    "                zero.append(i)\n",
    "            elif number_kids == 1:\n",
    "                one.append(i)\n",
    "            elif number_kids == 2:\n",
    "                two.append(i)\n",
    "            elif number_kids == 3:\n",
    "                three.append(i)\n",
    "            elif number_kids == 4:\n",
    "                four.append(i)\n",
    "            else:\n",
    "                five.append(i)\n",
    "    \n",
    "        for kid in zero:\n",
    "            zero_sum += float(self.charges_list[kid])\n",
    "            zero_avg = zero_sum / len(zero)\n",
    "        for kid in one:\n",
    "            one_sum += float(self.charges_list[kid])\n",
    "            one_avg = one_sum / len(one)\n",
    "        for kid in two:\n",
    "            two_sum += float(self.charges_list[kid])\n",
    "            two_avg = two_sum / len(two)\n",
    "        for kid in three:\n",
    "            three_sum += float(self.charges_list[kid])\n",
    "            three_avg = three_sum / len(three)\n",
    "        for kid in four:\n",
    "            four_sum += float(self.charges_list[kid])\n",
    "            four_avg = four_sum / len(four)\n",
    "        for kid in five:\n",
    "            five_sum += float(self.charges_list[kid])\n",
    "            five_avg = five_sum / len(five)\n",
    "        \n",
    "        return 'No Children: ' + str(zero_avg), 'One Child: ' + str(one_avg), \"Two Children: \" + str(two_avg), 'Three Children: ' + str(three_avg), 'Four Children: ' + str(four_avg), 'Five Children: ' + str(five_avg)\n",
    "        \n",
    "    \n",
    "\n",
    "            "
   ]
  },
  {
   "cell_type": "code",
   "execution_count": 211,
   "id": "c5914c0a",
   "metadata": {},
   "outputs": [
    {
     "name": "stdout",
     "output_type": "stream",
     "text": [
      "Average Age: 39.20702541106129\n",
      "Average BMI: 30.663396860986307\n",
      "('northeast: 2916', 'southeast: 3276', 'northwest: 2925', 'southwest: 2925')\n",
      "('male cost: 13956.751177721904', 'female cost: 12569.578843835363')\n",
      "('No Children: 12365.975601635892', 'One Child: 12731.171831635811', 'Two Children: 15073.563733958232', 'Three Children: 15355.318366815301', 'Four Children: 13850.656311199997', 'Five Children: 8786.035247222226')\n"
     ]
    }
   ],
   "source": [
    "#instantiating the class with the variable insurance_data\n",
    "insurance_data = Insurance(age_list, sex_list, bmi_list, children_list, smoker_list, region_list, charges_list)\n",
    "#getting the values from the method above\n",
    "print(insurance_data.averageAge())\n",
    "print(insurance_data.averageBMI())\n",
    "print(insurance_data.regions())\n",
    "print(insurance_data.gender_costs())\n",
    "print(insurance_data.children_costs())"
   ]
  },
  {
   "cell_type": "code",
   "execution_count": null,
   "id": "b4b30849",
   "metadata": {},
   "outputs": [],
   "source": []
  }
 ],
 "metadata": {
  "kernelspec": {
   "display_name": "Python 3 (ipykernel)",
   "language": "python",
   "name": "python3"
  },
  "language_info": {
   "codemirror_mode": {
    "name": "ipython",
    "version": 3
   },
   "file_extension": ".py",
   "mimetype": "text/x-python",
   "name": "python",
   "nbconvert_exporter": "python",
   "pygments_lexer": "ipython3",
   "version": "3.9.7"
  }
 },
 "nbformat": 4,
 "nbformat_minor": 5
}
